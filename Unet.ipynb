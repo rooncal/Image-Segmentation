{
  "nbformat": 4,
  "nbformat_minor": 0,
  "metadata": {
    "colab": {
      "name": "Unet.ipynb",
      "provenance": [],
      "collapsed_sections": [],
      "authorship_tag": "ABX9TyOxD2lnvq37xUgL70INgIzk",
      "include_colab_link": true
    },
    "kernelspec": {
      "name": "python3",
      "display_name": "Python 3"
    },
    "language_info": {
      "name": "python"
    },
    "accelerator": "GPU"
  },
  "cells": [
    {
      "cell_type": "markdown",
      "metadata": {
        "id": "view-in-github",
        "colab_type": "text"
      },
      "source": [
        "<a href=\"https://colab.research.google.com/github/rooncal/Image-Segmentation/blob/main/Unet.ipynb\" target=\"_parent\"><img src=\"https://colab.research.google.com/assets/colab-badge.svg\" alt=\"Open In Colab\"/></a>"
      ]
    },
    {
      "cell_type": "code",
      "metadata": {
        "colab": {
          "base_uri": "https://localhost:8080/"
        },
        "id": "hvXOYU4C0ZmT",
        "outputId": "d222be20-406d-4e81-af46-4dd3cdd81c12"
      },
      "source": [
        "import torch\n",
        "import torch.nn as nn\n",
        "import torch.optim as optim\n",
        "from torch.utils.data import DataLoader\n",
        "from torch.utils.data import sampler\n",
        "import cv2\n",
        "import random\n",
        "import torchvision.datasets as dset\n",
        "import torchvision.transforms as T\n",
        "import torchvision.transforms.functional as F\n",
        "from PIL import Image\n",
        " \n",
        " \n",
        "from functools import reduce\n",
        "import numpy as np\n",
        "import os\n",
        "import sys\n",
        "from google.colab import drive\n",
        "from glob import glob\n",
        "import matplotlib.pyplot as plt\n",
        " \n",
        "!pip install elasticdeform\n",
        "import elasticdeform"
      ],
      "execution_count": 1,
      "outputs": [
        {
          "output_type": "stream",
          "text": [
            "Requirement already satisfied: elasticdeform in /usr/local/lib/python3.7/dist-packages (0.4.9)\n",
            "Requirement already satisfied: numpy in /usr/local/lib/python3.7/dist-packages (from elasticdeform) (1.19.5)\n",
            "Requirement already satisfied: scipy in /usr/local/lib/python3.7/dist-packages (from elasticdeform) (1.4.1)\n"
          ],
          "name": "stdout"
        }
      ]
    },
    {
      "cell_type": "code",
      "metadata": {
        "id": "3inyfTDRd8ic"
      },
      "source": [
        "%matplotlib inline"
      ],
      "execution_count": 2,
      "outputs": []
    },
    {
      "cell_type": "markdown",
      "metadata": {
        "id": "U_0K8kcn8j-B"
      },
      "source": [
        "##Preparing the data"
      ]
    },
    {
      "cell_type": "code",
      "metadata": {
        "colab": {
          "base_uri": "https://localhost:8080/"
        },
        "id": "uHfVt_7C0pHC",
        "outputId": "2fd8fa0d-c67d-4d9a-b694-327e342664c8"
      },
      "source": [
        "!git clone https://github.com/zhixuhao/unet.git\n",
        "!mv unet/data/membrane/train .\n",
        "!mv unet/data/membrane/test .\n",
        "!rm -rf unet\n",
        "!rm -rf train/aug"
      ],
      "execution_count": 3,
      "outputs": [
        {
          "output_type": "stream",
          "text": [
            "Cloning into 'unet'...\n",
            "remote: Enumerating objects: 394, done.\u001b[K\n",
            "remote: Total 394 (delta 0), reused 0 (delta 0), pack-reused 394\u001b[K\n",
            "Receiving objects: 100% (394/394), 44.92 MiB | 42.78 MiB/s, done.\n",
            "Resolving deltas: 100% (80/80), done.\n",
            "mv: cannot move 'unet/data/membrane/train' to './train': Directory not empty\n",
            "mv: cannot move 'unet/data/membrane/test' to './test': Directory not empty\n"
          ],
          "name": "stdout"
        }
      ]
    },
    {
      "cell_type": "markdown",
      "metadata": {
        "id": "TOUWqz5785Wm"
      },
      "source": [
        "##Loading the data"
      ]
    },
    {
      "cell_type": "code",
      "metadata": {
        "id": "pSQicM2DKPvU"
      },
      "source": [
        "import torch.utils.data as data\n",
        " \n",
        "class DataSetSegmentation(data.Dataset):\n",
        "    def __init__(self, folder_path, transform=None):\n",
        "        super(DataSetSegmentation, self).__init__()\n",
        "        self.img_files = glob(os.path.join(folder_path,'image/','*.png'))\n",
        "        self.mask_files = glob(os.path.join(folder_path,'label/','*.png'))\n",
        "        self.transform = transform\n",
        " \n",
        "    def __getitem__(self, index):\n",
        "            img_path = self.img_files[index]\n",
        "            mask_path = self.mask_files[index]\n",
        "            data = Image.open(img_path)\n",
        "            label = Image.open(mask_path)\n",
        "            if self.transform:\n",
        "              transformed_data, transformed_label = self.transform(data,label)\n",
        "              return transformed_data, transformed_label\n",
        "            return data, label\n",
        " \n",
        "    def __len__(self):\n",
        "        return len(self.img_files)"
      ],
      "execution_count": 4,
      "outputs": []
    },
    {
      "cell_type": "code",
      "metadata": {
        "id": "JBliaMJ5SJel"
      },
      "source": [
        "from scipy.ndimage.interpolation import map_coordinates\n",
        "from scipy.ndimage.filters import gaussian_filter\n",
        " \n",
        " \n",
        " \n",
        "class ElasticTransform(object):\n",
        "    \"\"\"Convert ndarrays in sample to Tensors.\"\"\"\n",
        "    def __init__(self, sigma=10, alpha=1, alpha_affine=10, random_state=None):\n",
        "      self.sigma = sigma\n",
        "      self.alpha = alpha\n",
        "      self.random_state = random_state\n",
        "      self.alpha_affine = alpha_affine\n",
        " \n",
        " \n",
        "    def __call__(self, image, mask):\n",
        "      image, mask = np.asarray(image), np.asarray(mask)\n",
        "      shape = image.shape\n",
        "      [image, mask] = elasticdeform.deform_random_grid([image, mask], sigma=self.sigma, points=[3,3], order=[3,3], zoom=1.5)\n",
        "      return Image.fromarray(image), Image.fromarray(mask)"
      ],
      "execution_count": 5,
      "outputs": []
    },
    {
      "cell_type": "code",
      "metadata": {
        "id": "vTwZNWNkJ0mJ"
      },
      "source": [
        "class Resize(object):\n",
        "  def __init__(self, size=(520,520)):\n",
        "    self.size = size\n",
        "\n",
        "  def __call__(self, img, mask):\n",
        "    resize = T.Resize(size=self.size)\n",
        "    return resize(img), resize(mask)"
      ],
      "execution_count": 6,
      "outputs": []
    },
    {
      "cell_type": "code",
      "metadata": {
        "id": "Pq67dW0dKkjB"
      },
      "source": [
        "class RandomCrop(object):\n",
        "  def __init__(self, output_size=(512,512)):\n",
        "    self.output_size = output_size\n",
        "\n",
        "  def __call__(self, img, mask):\n",
        "    i, j, h, w = T.RandomCrop.get_params(\n",
        "            img, output_size=self.output_size)\n",
        "    img = F.crop(img, i, j, h, w)\n",
        "    mask = F.crop(mask, i, j, h, w)\n",
        "    return img, mask\n"
      ],
      "execution_count": 7,
      "outputs": []
    },
    {
      "cell_type": "code",
      "metadata": {
        "id": "reZHVtRcLFcA"
      },
      "source": [
        "class RandomHorizontalFlip(object):\n",
        "  def __call__(self, img, mask):\n",
        "    if random.random() > 0.5:\n",
        "      img = F.hflip(img)\n",
        "      mask = F.hflip(mask)\n",
        "    return img, mask\n"
      ],
      "execution_count": 8,
      "outputs": []
    },
    {
      "cell_type": "code",
      "metadata": {
        "id": "XZiYJdvsLlBe"
      },
      "source": [
        "class RandomVerticalFlip(object):\n",
        "  def __call__(self, img, mask):\n",
        "    if random.random() > 0.5:\n",
        "      img = F.vflip(img)\n",
        "      mask = F.vflip(mask)\n",
        "    return img, mask\n"
      ],
      "execution_count": 9,
      "outputs": []
    },
    {
      "cell_type": "code",
      "metadata": {
        "id": "gs7-HAoqLuDE"
      },
      "source": [
        "class ToTensor(object):\n",
        "  def __call__(self, img, mask):\n",
        "    return F.to_tensor(img), F.to_tensor(mask)"
      ],
      "execution_count": 10,
      "outputs": []
    },
    {
      "cell_type": "code",
      "metadata": {
        "id": "Pt2U2CvH44Oc"
      },
      "source": [
        "class Compose(T.Compose):\n",
        " \n",
        "    def __call__(self, img, mask):\n",
        "        for t in self.transforms:\n",
        "            img, mask = t(img, mask)\n",
        "        return img, mask"
      ],
      "execution_count": 11,
      "outputs": []
    },
    {
      "cell_type": "code",
      "metadata": {
        "id": "3D1eOxBo-F_5"
      },
      "source": [
        "transform = Compose([\n",
        "                Resize(), RandomCrop(), RandomHorizontalFlip(), RandomVerticalFlip(), ToTensor()\n",
        "            ])\n",
        "#ElasticTransform(), \n",
        "\n",
        "loader_train = DataSetSegmentation(folder_path='/content/train', transform=transform)\n",
        "data_loader_train = DataLoader(loader_train,1,sampler=sampler.SubsetRandomSampler(range(25)))\n",
        "data_loader_val = DataLoader(loader_train,1,sampler=sampler.SubsetRandomSampler(range(25,30)))"
      ],
      "execution_count": 12,
      "outputs": []
    },
    {
      "cell_type": "code",
      "metadata": {
        "colab": {
          "base_uri": "https://localhost:8080/"
        },
        "id": "YNUma9nTNn8F",
        "outputId": "11316957-cb09-4e6b-9e83-27f1aca5f140"
      },
      "source": [
        "loader_train[0]"
      ],
      "execution_count": 13,
      "outputs": [
        {
          "output_type": "execute_result",
          "data": {
            "text/plain": [
              "(tensor([[[0.6627, 0.6863, 0.6157,  ..., 0.7412, 0.6275, 0.6471],\n",
              "          [0.5804, 0.6275, 0.5569,  ..., 0.6588, 0.6392, 0.6510],\n",
              "          [0.5608, 0.6196, 0.6118,  ..., 0.5765, 0.6235, 0.6784],\n",
              "          ...,\n",
              "          [0.6980, 0.7529, 0.7490,  ..., 0.4549, 0.3804, 0.5490],\n",
              "          [0.7608, 0.7373, 0.7529,  ..., 0.5216, 0.4745, 0.6510],\n",
              "          [0.7216, 0.7020, 0.6667,  ..., 0.5686, 0.5451, 0.6000]]]),\n",
              " tensor([[[1., 1., 1.,  ..., 1., 1., 1.],\n",
              "          [1., 1., 1.,  ..., 1., 1., 1.],\n",
              "          [1., 1., 1.,  ..., 1., 1., 1.],\n",
              "          ...,\n",
              "          [1., 1., 1.,  ..., 1., 1., 1.],\n",
              "          [1., 1., 1.,  ..., 1., 1., 1.],\n",
              "          [1., 1., 1.,  ..., 1., 1., 1.]]]))"
            ]
          },
          "metadata": {
            "tags": []
          },
          "execution_count": 13
        }
      ]
    },
    {
      "cell_type": "code",
      "metadata": {
        "colab": {
          "base_uri": "https://localhost:8080/",
          "height": 204
        },
        "id": "eoDbtzvKNsxM",
        "outputId": "665db1e8-191a-48e6-acf7-a41192ee61e0"
      },
      "source": [
        "fig=plt.figure()\n",
        "fig.add_subplot(1,2,1)\n",
        "x,y = loader_train[0]\n",
        "plt.imshow(x[0])\n",
        "fig.add_subplot(1,2,2)\n",
        "plt.imshow(y[0])\n",
        "plt.show()"
      ],
      "execution_count": 14,
      "outputs": [
        {
          "output_type": "display_data",
          "data": {
            "image/png": "[encoded data removed]",
            "text/plain": [
              "<Figure size 432x288 with 2 Axes>"
            ]
          },
          "metadata": {
            "tags": [],
            "needs_background": "light"
          }
        }
      ]
    },
    {
      "cell_type": "markdown",
      "metadata": {
        "id": "JoNvK-RXFhQV"
      },
      "source": [
        "##Building the model"
      ]
    },
    {
      "cell_type": "code",
      "metadata": {
        "id": "weKVaGvirtwX"
      },
      "source": [
        "class TwoConvsDown(nn.Module):\n",
        "  def __init__(self,in_channels):\n",
        "    super().__init__()\n",
        "    self.relu = nn.ReLU()\n",
        "    self.conv1 = nn.Conv2d(in_channels, in_channels*2, 3, padding=1)\n",
        "    self.conv2 = nn.Conv2d(in_channels*2, in_channels*2, 3, padding=1)\n",
        " \n",
        "  def forward(self, x):\n",
        "    x = self.conv1(x)\n",
        "    x = self.relu(x)\n",
        "    x = self.conv2(x)\n",
        "    x = self.relu(x)\n",
        "    return x\n",
        " \n",
        " \n",
        "class TwoConvsUp(nn.Module):\n",
        "  def __init__(self,in_channels):\n",
        "    super().__init__()\n",
        "    self.relu = nn.ReLU()\n",
        "    self.conv1 = nn.Conv2d(in_channels, in_channels//2, 3, padding=1)\n",
        "    self.conv2 = nn.Conv2d(in_channels//2, in_channels//2, 3, padding=1)\n",
        " \n",
        "  def forward(self, x):\n",
        "    x = self.conv1(x)\n",
        "    x = self.relu(x)\n",
        "    x = self.conv2(x)\n",
        "    x = self.relu(x)\n",
        "    return x"
      ],
      "execution_count": 15,
      "outputs": []
    },
    {
      "cell_type": "code",
      "metadata": {
        "id": "Ynd3G7s5Fi3B"
      },
      "source": [
        "class Unet(nn.Module):\n",
        "  def __init__(self):\n",
        "    super().__init__()\n",
        "    self.relu = nn.ReLU()\n",
        "    self.conv1 = nn.Conv2d(1, 64, 3,padding=1)\n",
        "    self.conv2 = nn.Conv2d(64, 64, 3,padding=1)\n",
        "    self.twoconv1 = TwoConvsDown(64)\n",
        "    self.twoconv2 = TwoConvsDown(128)\n",
        "    self.twoconv3 = TwoConvsDown(256)\n",
        "    self.twoconv4 = TwoConvsDown(512)\n",
        "    self.twoconv5 = TwoConvsUp(1024)\n",
        "    self.twoconv6 = TwoConvsUp(512)\n",
        "    self.twoconv7 = TwoConvsUp(256)\n",
        "    self.twoconv8 = TwoConvsUp(128)\n",
        "    self.finalconv = nn.Conv2d(64,2,1)\n",
        " \n",
        "    self.oneconv1 = nn.Conv2d(1024,512,1,1)\n",
        "    self.oneconv2 = nn.Conv2d(512,256,1,1)\n",
        "    self.oneconv3 = nn.Conv2d(256,128,1,1)\n",
        "    self.oneconv4 = nn.Conv2d(128,64,1,1)\n",
        " \n",
        "  def forward(self, x):\n",
        "    x = self.conv1(x)\n",
        "    x = self.relu(x)\n",
        "    x = self.conv2(x)\n",
        "    x = self.relu(x)\n",
        "    concat_1 = x\n",
        "    x = nn.MaxPool2d(2)(x)\n",
        " \n",
        "    x =self.twoconv1(x)\n",
        "    concat_2 = x\n",
        "    x = nn.MaxPool2d(2)(x)\n",
        " \n",
        "    x = self.twoconv2(x)\n",
        "    concat_3 = x\n",
        "    x = nn.MaxPool2d(2)(x)\n",
        "    x = self.twoconv3(x)\n",
        "    \n",
        "    concat_4 = x\n",
        "    x = nn.MaxPool2d(2)(x)\n",
        "    x = self.twoconv4(x)\n",
        "    x = nn.Upsample(scale_factor=2, mode='bilinear', align_corners=True)(x)\n",
        "    x = self.oneconv1(x)\n",
        "    \n",
        "    x = torch.cat((concat_4, x), 1)\n",
        "    x = self.twoconv5(x)\n",
        " \n",
        "    x = nn.Upsample(scale_factor=2, mode='bilinear', align_corners=True)(x)\n",
        "    x = self.oneconv2(x)\n",
        "    x = torch.cat((concat_3, x), 1)\n",
        "    x = self.twoconv6(x)\n",
        " \n",
        "    x = nn.Upsample(scale_factor=2, mode='bilinear', align_corners=True)(x)\n",
        "    x = self.oneconv3(x)\n",
        "    x = torch.cat((concat_2, x), 1)\n",
        "    x = self.twoconv7(x)\n",
        " \n",
        "    x = nn.Upsample(scale_factor=2, mode='bilinear', align_corners=True)(x)\n",
        "    x = self.oneconv4(x)\n",
        "    x = torch.cat((concat_1, x), 1)\n",
        "    x = self.twoconv8(x)\n",
        " \n",
        "    x = self.finalconv(x)\n",
        "    \n",
        "    return x"
      ],
      "execution_count": 16,
      "outputs": []
    },
    {
      "cell_type": "code",
      "metadata": {
        "id": "k59ge7jBFwNp",
        "colab": {
          "base_uri": "https://localhost:8080/"
        },
        "outputId": "2b0f0d87-e2d6-45f5-d0a9-fc67025688f6"
      },
      "source": [
        "x = torch.zeros((1, 1, 512, 512), dtype=torch.float32)\n",
        "model = Unet()\n",
        "scores = model(x)\n",
        "print(scores.size())"
      ],
      "execution_count": 17,
      "outputs": [
        {
          "output_type": "stream",
          "text": [
            "torch.Size([1, 2, 512, 512])\n"
          ],
          "name": "stdout"
        }
      ]
    },
    {
      "cell_type": "code",
      "metadata": {
        "colab": {
          "base_uri": "https://localhost:8080/"
        },
        "id": "9yI-Od_aNeAZ",
        "outputId": "fbe20359-6e81-4dfb-c9c6-3d4643849459"
      },
      "source": [
        "model = Unet()\n",
        "device = torch.device(\"cuda:0\" if torch.cuda.is_available() else \"cpu\")\n",
        "model.cuda(device)"
      ],
      "execution_count": 18,
      "outputs": [
        {
          "output_type": "execute_result",
          "data": {
            "text/plain": [
              "Unet(\n",
              "  (relu): ReLU()\n",
              "  (conv1): Conv2d(1, 64, kernel_size=(3, 3), stride=(1, 1), padding=(1, 1))\n",
              "  (conv2): Conv2d(64, 64, kernel_size=(3, 3), stride=(1, 1), padding=(1, 1))\n",
              "  (twoconv1): TwoConvsDown(\n",
              "    (relu): ReLU()\n",
              "    (conv1): Conv2d(64, 128, kernel_size=(3, 3), stride=(1, 1), padding=(1, 1))\n",
              "    (conv2): Conv2d(128, 128, kernel_size=(3, 3), stride=(1, 1), padding=(1, 1))\n",
              "  )\n",
              "  (twoconv2): TwoConvsDown(\n",
              "    (relu): ReLU()\n",
              "    (conv1): Conv2d(128, 256, kernel_size=(3, 3), stride=(1, 1), padding=(1, 1))\n",
              "    (conv2): Conv2d(256, 256, kernel_size=(3, 3), stride=(1, 1), padding=(1, 1))\n",
              "  )\n",
              "  (twoconv3): TwoConvsDown(\n",
              "    (relu): ReLU()\n",
              "    (conv1): Conv2d(256, 512, kernel_size=(3, 3), stride=(1, 1), padding=(1, 1))\n",
              "    (conv2): Conv2d(512, 512, kernel_size=(3, 3), stride=(1, 1), padding=(1, 1))\n",
              "  )\n",
              "  (twoconv4): TwoConvsDown(\n",
              "    (relu): ReLU()\n",
              "    (conv1): Conv2d(512, 1024, kernel_size=(3, 3), stride=(1, 1), padding=(1, 1))\n",
              "    (conv2): Conv2d(1024, 1024, kernel_size=(3, 3), stride=(1, 1), padding=(1, 1))\n",
              "  )\n",
              "  (twoconv5): TwoConvsUp(\n",
              "    (relu): ReLU()\n",
              "    (conv1): Conv2d(1024, 512, kernel_size=(3, 3), stride=(1, 1), padding=(1, 1))\n",
              "    (conv2): Conv2d(512, 512, kernel_size=(3, 3), stride=(1, 1), padding=(1, 1))\n",
              "  )\n",
              "  (twoconv6): TwoConvsUp(\n",
              "    (relu): ReLU()\n",
              "    (conv1): Conv2d(512, 256, kernel_size=(3, 3), stride=(1, 1), padding=(1, 1))\n",
              "    (conv2): Conv2d(256, 256, kernel_size=(3, 3), stride=(1, 1), padding=(1, 1))\n",
              "  )\n",
              "  (twoconv7): TwoConvsUp(\n",
              "    (relu): ReLU()\n",
              "    (conv1): Conv2d(256, 128, kernel_size=(3, 3), stride=(1, 1), padding=(1, 1))\n",
              "    (conv2): Conv2d(128, 128, kernel_size=(3, 3), stride=(1, 1), padding=(1, 1))\n",
              "  )\n",
              "  (twoconv8): TwoConvsUp(\n",
              "    (relu): ReLU()\n",
              "    (conv1): Conv2d(128, 64, kernel_size=(3, 3), stride=(1, 1), padding=(1, 1))\n",
              "    (conv2): Conv2d(64, 64, kernel_size=(3, 3), stride=(1, 1), padding=(1, 1))\n",
              "  )\n",
              "  (finalconv): Conv2d(64, 2, kernel_size=(1, 1), stride=(1, 1))\n",
              "  (oneconv1): Conv2d(1024, 512, kernel_size=(1, 1), stride=(1, 1))\n",
              "  (oneconv2): Conv2d(512, 256, kernel_size=(1, 1), stride=(1, 1))\n",
              "  (oneconv3): Conv2d(256, 128, kernel_size=(1, 1), stride=(1, 1))\n",
              "  (oneconv4): Conv2d(128, 64, kernel_size=(1, 1), stride=(1, 1))\n",
              ")"
            ]
          },
          "metadata": {
            "tags": []
          },
          "execution_count": 18
        }
      ]
    },
    {
      "cell_type": "code",
      "metadata": {
        "id": "OmfRHQUzjY9Y"
      },
      "source": [
        "SMOOTH = 1e-6\n",
        "\n",
        "def iou_pytorch(outputs: torch.Tensor, labels: torch.Tensor):\n",
        "    # You can comment out this line if you are passing tensors of equal shape\n",
        "    # But if you are passing output from UNet or something it will most probably\n",
        "    # be with the BATCH x 1 x H x W shape\n",
        "    model.eval()\n",
        "    with torch.no_grad():\n",
        "      intersection = torch.logical_and(labels, outputs)\n",
        "      union = torch.logical_or(labels, outputs)\n",
        "      iou_score = torch.sum(intersection) / torch.sum(union)\n",
        "      return iou_score "
      ],
      "execution_count": 19,
      "outputs": []
    },
    {
      "cell_type": "code",
      "metadata": {
        "id": "QfwHG3ajblp6"
      },
      "source": [
        "def check_accuracy(loader, model):  \n",
        "    model.eval()  # set model to evaluation mode\n",
        "    with torch.no_grad():\n",
        "        running_loss = 0.0\n",
        "        for i, (x, y) in enumerate(loader):\n",
        "            x = x.to(device=device)  # move to device, e.g. GPU\n",
        "            y = y.to(device=device, dtype=torch.long)\n",
        "            scores = model(x)\n",
        "            loss = loss_function(scores, y.squeeze(1))\n",
        "            running_loss += loss.item()\n",
        "            if i % 5 == 4:    # print every 5 mini-batches\n",
        "              return running_loss / 5"
      ],
      "execution_count": 26,
      "outputs": []
    },
    {
      "cell_type": "code",
      "metadata": {
        "colab": {
          "base_uri": "https://localhost:8080/"
        },
        "id": "CmnwL5dxmqqz",
        "outputId": "2cd0f7bf-d499-49d7-c646-d52c77408f80"
      },
      "source": [
        "loss_function = nn.CrossEntropyLoss()\n",
        "optimizer = optim.SGD(model.parameters(),lr=0.001, momentum=0.99)\n",
        " \n",
        "for epoch in range(20):  # loop over the dataset multiple times\n",
        " \n",
        "    running_loss = 0.0\n",
        "    for i, data in enumerate(data_loader_train, 0):\n",
        "        model.train()\n",
        "        # get the inputs; data is a list of [inputs, labels]\n",
        "        inputs, labels = data\n",
        " \n",
        "        # zero the parameter gradients\n",
        "        optimizer.zero_grad()\n",
        " \n",
        "        inputs, labels = inputs.to(device), labels.to(device)\n",
        " \n",
        "        # forward + backward + optimize\n",
        "        outputs = model(inputs)\n",
        "        loss = loss_function(outputs, labels.long().squeeze(1))\n",
        "        loss.backward()\n",
        "        optimizer.step()\n",
        " \n",
        "        # print statistics\n",
        "        running_loss += loss.item()\n",
        "        if i % 25 == 24:    # print every 2000 mini-batches\n",
        "            validation_loss = check_accuracy(data_loader_val, model)\n",
        "            iou = iou_pytorch(outputs, labels).item()\n",
        "            print(f'Epoch: {epoch + 1} training loss: {running_loss / 30:.3f} validation loss: {validation_loss:.3f} mean IoU: {iou:.3f}')\n",
        "            running_loss = 0.0\n",
        " \n",
        "print('Finished Training')"
      ],
      "execution_count": 28,
      "outputs": [
        {
          "output_type": "stream",
          "text": [
            "Epoch: 1 training loss: 0.332 validation loss: 0.389 mean IoU: 0.803\n",
            "Epoch: 2 training loss: 0.331 validation loss: 0.380 mean IoU: 0.838\n",
            "Epoch: 3 training loss: 0.327 validation loss: 0.375 mean IoU: 0.825\n",
            "Epoch: 4 training loss: 0.334 validation loss: 0.369 mean IoU: 0.837\n",
            "Epoch: 5 training loss: 0.328 validation loss: 0.373 mean IoU: 0.802\n",
            "Epoch: 6 training loss: 0.323 validation loss: 0.379 mean IoU: 0.855\n",
            "Epoch: 7 training loss: 0.327 validation loss: 0.377 mean IoU: 0.802\n",
            "Epoch: 8 training loss: 0.321 validation loss: 0.381 mean IoU: 0.855\n",
            "Epoch: 9 training loss: 0.322 validation loss: 0.367 mean IoU: 0.821\n",
            "Epoch: 10 training loss: 0.329 validation loss: 0.365 mean IoU: 0.779\n",
            "Epoch: 11 training loss: 0.330 validation loss: 0.369 mean IoU: 0.798\n",
            "Epoch: 12 training loss: 0.330 validation loss: 0.369 mean IoU: 0.838\n",
            "Epoch: 13 training loss: 0.319 validation loss: 0.377 mean IoU: 0.822\n",
            "Epoch: 14 training loss: 0.322 validation loss: 0.367 mean IoU: 0.825\n",
            "Epoch: 15 training loss: 0.319 validation loss: 0.364 mean IoU: 0.826\n",
            "Epoch: 16 training loss: 0.318 validation loss: 0.362 mean IoU: 0.836\n",
            "Epoch: 17 training loss: 0.316 validation loss: 0.362 mean IoU: 0.780\n",
            "Epoch: 18 training loss: 0.315 validation loss: 0.361 mean IoU: 0.798\n",
            "Epoch: 19 training loss: 0.317 validation loss: 0.360 mean IoU: 0.798\n",
            "Epoch: 20 training loss: 0.314 validation loss: 0.360 mean IoU: 0.822\n",
            "Finished Training\n"
          ],
          "name": "stdout"
        }
      ]
    },
    {
      "cell_type": "code",
      "metadata": {
        "id": "I9d8rNlhWM00"
      },
      "source": [
        ""
      ],
      "execution_count": null,
      "outputs": []
    }
  ]
}
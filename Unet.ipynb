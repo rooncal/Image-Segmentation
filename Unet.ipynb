{
  "nbformat": 4,
  "nbformat_minor": 0,
  "metadata": {
    "colab": {
      "name": "Unet.ipynb",
      "provenance": [],
      "collapsed_sections": [],
      "authorship_tag": "ABX9TyOf1A9c3U+dA6Y13iFwxXrB",
      "include_colab_link": true
    },
    "kernelspec": {
      "name": "python3",
      "display_name": "Python 3"
    },
    "language_info": {
      "name": "python"
    },
    "accelerator": "GPU"
  },
  "cells": [
    {
      "cell_type": "markdown",
      "metadata": {
        "id": "view-in-github",
        "colab_type": "text"
      },
      "source": [
        "<a href=\"https://colab.research.google.com/github/rooncal/Image-Segmentation/blob/main/Unet.ipynb\" target=\"_parent\"><img src=\"https://colab.research.google.com/assets/colab-badge.svg\" alt=\"Open In Colab\"/></a>"
      ]
    },
    {
      "cell_type": "code",
      "metadata": {
        "colab": {
          "base_uri": "https://localhost:8080/"
        },
        "id": "hvXOYU4C0ZmT",
        "outputId": "68a72f6c-ec07-432e-91c5-ef9cb293448e"
      },
      "source": [
        "import torch\n",
        "import torch.nn as nn\n",
        "import torch.optim as optim\n",
        "from torch.utils.data import DataLoader\n",
        "from torch.utils.data import sampler\n",
        "import cv2\n",
        "import random\n",
        "import torchvision.datasets as dset\n",
        "import torchvision.transforms as T\n",
        "import torchvision.transforms.functional as F\n",
        "from PIL import Image\n",
        " \n",
        " \n",
        "from functools import reduce\n",
        "import numpy as np\n",
        "import os\n",
        "import sys\n",
        "from google.colab import drive\n",
        "from glob import glob\n",
        "import matplotlib.pyplot as plt\n",
        " \n",
        "!pip install elasticdeform\n",
        "import elasticdeform"
      ],
      "execution_count": 1,
      "outputs": [
        {
          "output_type": "stream",
          "text": [
            "Requirement already satisfied: elasticdeform in /usr/local/lib/python3.7/dist-packages (0.4.9)\n",
            "Requirement already satisfied: numpy in /usr/local/lib/python3.7/dist-packages (from elasticdeform) (1.19.5)\n",
            "Requirement already satisfied: scipy in /usr/local/lib/python3.7/dist-packages (from elasticdeform) (1.4.1)\n"
          ],
          "name": "stdout"
        }
      ]
    },
    {
      "cell_type": "code",
      "metadata": {
        "id": "3inyfTDRd8ic"
      },
      "source": [
        "%matplotlib inline"
      ],
      "execution_count": 2,
      "outputs": []
    },
    {
      "cell_type": "markdown",
      "metadata": {
        "id": "U_0K8kcn8j-B"
      },
      "source": [
        "##Preparing the data"
      ]
    },
    {
      "cell_type": "code",
      "metadata": {
        "colab": {
          "base_uri": "https://localhost:8080/"
        },
        "id": "uHfVt_7C0pHC",
        "outputId": "ba6eb597-f2dc-45ea-8cca-f20a0e0ebedd"
      },
      "source": [
        "!git clone https://github.com/zhixuhao/unet.git\n",
        "!mv unet/data/membrane/train .\n",
        "!mv unet/data/membrane/test .\n",
        "!rm -rf unet\n",
        "!rm -rf train/aug"
      ],
      "execution_count": 3,
      "outputs": [
        {
          "output_type": "stream",
          "text": [
            "Cloning into 'unet'...\n",
            "remote: Enumerating objects: 394, done.\u001b[K\n",
            "remote: Total 394 (delta 0), reused 0 (delta 0), pack-reused 394\u001b[K\n",
            "Receiving objects: 100% (394/394), 44.92 MiB | 42.31 MiB/s, done.\n",
            "Resolving deltas: 100% (80/80), done.\n",
            "mv: cannot move 'unet/data/membrane/train' to './train': Directory not empty\n",
            "mv: cannot move 'unet/data/membrane/test' to './test': Directory not empty\n"
          ],
          "name": "stdout"
        }
      ]
    },
    {
      "cell_type": "markdown",
      "metadata": {
        "id": "TOUWqz5785Wm"
      },
      "source": [
        "##Loading the data"
      ]
    },
    {
      "cell_type": "code",
      "metadata": {
        "id": "pSQicM2DKPvU"
      },
      "source": [
        "import torch.utils.data as data\n",
        " \n",
        "class DataSetSegmentation(data.Dataset):\n",
        "    def __init__(self, folder_path, transform=None):\n",
        "        super(DataSetSegmentation, self).__init__()\n",
        "        self.img_files = glob(os.path.join(folder_path,'image/','*.png'))\n",
        "        self.mask_files = glob(os.path.join(folder_path,'label/','*.png'))\n",
        "        self.transform = transform\n",
        " \n",
        "    def __getitem__(self, index):\n",
        "            img_path = self.img_files[index]\n",
        "            mask_path = self.mask_files[index]\n",
        "            data = Image.open(img_path)\n",
        "            label = Image.open(mask_path)\n",
        "            if self.transform:\n",
        "              transformed_data, transformed_label = self.transform(data,label)\n",
        "              return transformed_data, transformed_label\n",
        "            return data, label\n",
        " \n",
        "    def __len__(self):\n",
        "        return len(self.img_files)"
      ],
      "execution_count": 4,
      "outputs": []
    },
    {
      "cell_type": "code",
      "metadata": {
        "id": "JBliaMJ5SJel"
      },
      "source": [
        "from scipy.ndimage.interpolation import map_coordinates\n",
        "from scipy.ndimage.filters import gaussian_filter\n",
        " \n",
        " \n",
        " \n",
        "class ElasticTransform(object):\n",
        "    \"\"\"Convert ndarrays in sample to Tensors.\"\"\"\n",
        "    def __init__(self, sigma=10, alpha=1, alpha_affine=10, random_state=None):\n",
        "      self.sigma = sigma\n",
        "      self.alpha = alpha\n",
        "      self.random_state = random_state\n",
        "      self.alpha_affine = alpha_affine\n",
        " \n",
        " \n",
        "    def __call__(self, image, mask):\n",
        "      image, mask = np.asarray(image), np.asarray(mask)\n",
        "      shape = image.shape\n",
        "      [image, mask] = elasticdeform.deform_random_grid([image, mask], sigma=self.sigma, points=[3,3], order=[3,3], zoom=1.5)\n",
        "      return Image.fromarray(image), Image.fromarray(mask)"
      ],
      "execution_count": 5,
      "outputs": []
    },
    {
      "cell_type": "code",
      "metadata": {
        "id": "vTwZNWNkJ0mJ"
      },
      "source": [
        "class Resize(object):\n",
        "  def __init__(self, size=(520,520)):\n",
        "    self.size = size\n",
        "\n",
        "  def __call__(self, img, mask):\n",
        "    resize = T.Resize(size=self.size)\n",
        "    return resize(img), resize(mask)"
      ],
      "execution_count": 6,
      "outputs": []
    },
    {
      "cell_type": "code",
      "metadata": {
        "id": "Pq67dW0dKkjB"
      },
      "source": [
        "class RandomCrop(object):\n",
        "  def __init__(self, output_size=(512,512)):\n",
        "    self.output_size = output_size\n",
        "\n",
        "  def __call__(self, img, mask):\n",
        "    i, j, h, w = T.RandomCrop.get_params(\n",
        "            img, output_size=self.output_size)\n",
        "    img = F.crop(img, i, j, h, w)\n",
        "    mask = F.crop(mask, i, j, h, w)\n",
        "    return img, mask\n"
      ],
      "execution_count": 7,
      "outputs": []
    },
    {
      "cell_type": "code",
      "metadata": {
        "id": "reZHVtRcLFcA"
      },
      "source": [
        "class RandomHorizontalFlip(object):\n",
        "  def __call__(self, img, mask):\n",
        "    if random.random() > 0.5:\n",
        "      img = F.hflip(img)\n",
        "      mask = F.hflip(mask)\n",
        "    return img, mask\n"
      ],
      "execution_count": 8,
      "outputs": []
    },
    {
      "cell_type": "code",
      "metadata": {
        "id": "XZiYJdvsLlBe"
      },
      "source": [
        "class RandomVerticalFlip(object):\n",
        "  def __call__(self, img, mask):\n",
        "    if random.random() > 0.5:\n",
        "      img = F.vflip(img)\n",
        "      mask = F.vflip(mask)\n",
        "    return img, mask\n"
      ],
      "execution_count": 9,
      "outputs": []
    },
    {
      "cell_type": "code",
      "metadata": {
        "id": "gs7-HAoqLuDE"
      },
      "source": [
        "class ToTensor(object):\n",
        "  def __call__(self, img, mask):\n",
        "    return F.to_tensor(img), F.to_tensor(mask)"
      ],
      "execution_count": 10,
      "outputs": []
    },
    {
      "cell_type": "code",
      "metadata": {
        "id": "Pt2U2CvH44Oc"
      },
      "source": [
        "class Compose(T.Compose):\n",
        " \n",
        "    def __call__(self, img, mask):\n",
        "        for t in self.transforms:\n",
        "            img, mask = t(img, mask)\n",
        "        return img, mask"
      ],
      "execution_count": 11,
      "outputs": []
    },
    {
      "cell_type": "code",
      "metadata": {
        "id": "3D1eOxBo-F_5"
      },
      "source": [
        "transform = Compose([\n",
        "                Resize(), RandomCrop(), RandomHorizontalFlip(), RandomVerticalFlip(), ToTensor()\n",
        "            ])\n",
        "#ElasticTransform(), \n",
        "\n",
        "loader_train = DataSetSegmentation(folder_path='/content/train', transform=transform)\n",
        "data_loader_train = DataLoader(loader_train,1,sampler=sampler.SubsetRandomSampler(range(25)))\n",
        "data_loader_val = DataLoader(loader_train,1,sampler=sampler.SubsetRandomSampler(range(25,30)))"
      ],
      "execution_count": 12,
      "outputs": []
    },
    {
      "cell_type": "code",
      "metadata": {
        "colab": {
          "base_uri": "https://localhost:8080/"
        },
        "id": "YNUma9nTNn8F",
        "outputId": "2e2d6fb6-afbb-44e5-e1cb-7104a62e6497"
      },
      "source": [
        "loader_train[0]"
      ],
      "execution_count": 13,
      "outputs": [
        {
          "output_type": "execute_result",
          "data": {
            "text/plain": [
              "(tensor([[[0.4000, 0.5608, 0.6196,  ..., 0.6392, 0.5765, 0.6235],\n",
              "          [0.3725, 0.5059, 0.5255,  ..., 0.5804, 0.5725, 0.6235],\n",
              "          [0.3059, 0.3137, 0.3412,  ..., 0.5137, 0.5176, 0.5137],\n",
              "          ...,\n",
              "          [0.6902, 0.7216, 0.7020,  ..., 0.4863, 0.5686, 0.5451],\n",
              "          [0.6392, 0.5725, 0.6902,  ..., 0.3804, 0.4627, 0.4863],\n",
              "          [0.7137, 0.7020, 0.6863,  ..., 0.4039, 0.4824, 0.3804]]]),\n",
              " tensor([[[1.0000, 1.0000, 1.0000,  ..., 1.0000, 1.0000, 1.0000],\n",
              "          [1.0000, 1.0000, 1.0000,  ..., 1.0000, 1.0000, 1.0000],\n",
              "          [1.0000, 1.0000, 1.0000,  ..., 1.0000, 1.0000, 1.0000],\n",
              "          ...,\n",
              "          [1.0000, 1.0000, 1.0000,  ..., 1.0000, 1.0000, 1.0000],\n",
              "          [1.0000, 1.0000, 1.0000,  ..., 1.0000, 1.0000, 1.0000],\n",
              "          [1.0000, 1.0000, 1.0000,  ..., 0.9333, 1.0000, 1.0000]]]))"
            ]
          },
          "metadata": {
            "tags": []
          },
          "execution_count": 13
        }
      ]
    },
    {
      "cell_type": "code",
      "metadata": {
        "colab": {
          "base_uri": "https://localhost:8080/",
          "height": 204
        },
        "id": "eoDbtzvKNsxM",
        "outputId": "6fd559d8-7450-4a8a-d28e-15fa01229ee8"
      },
      "source": [
        "fig=plt.figure()\n",
        "fig.add_subplot(1,2,1)\n",
        "x,y = loader_train[0]\n",
        "plt.imshow(x[0])\n",
        "fig.add_subplot(1,2,2)\n",
        "plt.imshow(y[0])\n",
        "plt.show()"
      ],
      "execution_count": 14,
      "outputs": [
        {
          "output_type": "display_data",
          "data": {
            "image/png": "[encoded data removed]",
            "text/plain": [
              "<Figure size 432x288 with 2 Axes>"
            ]
          },
          "metadata": {
            "tags": [],
            "needs_background": "light"
          }
        }
      ]
    },
    {
      "cell_type": "markdown",
      "metadata": {
        "id": "JoNvK-RXFhQV"
      },
      "source": [
        "##Building the model"
      ]
    },
    {
      "cell_type": "code",
      "metadata": {
        "id": "weKVaGvirtwX"
      },
      "source": [
        "class TwoConvsDown(nn.Module):\n",
        "  def __init__(self,in_channels):\n",
        "    super().__init__()\n",
        "    self.relu = nn.ReLU()\n",
        "    self.conv1 = nn.Conv2d(in_channels, in_channels*2, 3, padding=1)\n",
        "    self.conv2 = nn.Conv2d(in_channels*2, in_channels*2, 3, padding=1)\n",
        " \n",
        "  def forward(self, x):\n",
        "    x = self.conv1(x)\n",
        "    x = self.relu(x)\n",
        "    x = self.conv2(x)\n",
        "    x = self.relu(x)\n",
        "    return x\n",
        " \n",
        " \n",
        "class TwoConvsUp(nn.Module):\n",
        "  def __init__(self,in_channels):\n",
        "    super().__init__()\n",
        "    self.relu = nn.ReLU()\n",
        "    self.conv1 = nn.Conv2d(in_channels, in_channels//2, 3, padding=1)\n",
        "    self.conv2 = nn.Conv2d(in_channels//2, in_channels//2, 3, padding=1)\n",
        " \n",
        "  def forward(self, x):\n",
        "    x = self.conv1(x)\n",
        "    x = self.relu(x)\n",
        "    x = self.conv2(x)\n",
        "    x = self.relu(x)\n",
        "    return x"
      ],
      "execution_count": 15,
      "outputs": []
    },
    {
      "cell_type": "code",
      "metadata": {
        "id": "Ynd3G7s5Fi3B"
      },
      "source": [
        "class Unet(nn.Module):\n",
        "  def __init__(self):\n",
        "    super().__init__()\n",
        "    self.relu = nn.ReLU()\n",
        "    self.conv1 = nn.Conv2d(1, 64, 3,padding=1)\n",
        "    self.conv2 = nn.Conv2d(64, 64, 3,padding=1)\n",
        "    self.twoconv1 = TwoConvsDown(64)\n",
        "    self.twoconv2 = TwoConvsDown(128)\n",
        "    self.twoconv3 = TwoConvsDown(256)\n",
        "    self.twoconv4 = TwoConvsDown(512)\n",
        "    self.twoconv5 = TwoConvsUp(1024)\n",
        "    self.twoconv6 = TwoConvsUp(512)\n",
        "    self.twoconv7 = TwoConvsUp(256)\n",
        "    self.twoconv8 = TwoConvsUp(128)\n",
        "    self.finalconv = nn.Conv2d(64,2,1)\n",
        " \n",
        "    self.oneconv1 = nn.Conv2d(1024,512,2,1,dilation=2,padding=1)\n",
        "    self.oneconv2 = nn.Conv2d(512,256,2,1,dilation=2,padding=1)\n",
        "    self.oneconv3 = nn.Conv2d(256,128,2,1,dilation=2,padding=1)\n",
        "    self.oneconv4 = nn.Conv2d(128,64,2,1,dilation=2,padding=1)\n",
        " \n",
        "  def forward(self, x):\n",
        "    x = self.conv1(x)\n",
        "    x = self.relu(x)\n",
        "    x = self.conv2(x)\n",
        "    x = self.relu(x)\n",
        "    concat_1 = x\n",
        "    x = nn.MaxPool2d(2)(x)\n",
        " \n",
        "    x =self.twoconv1(x)\n",
        "    concat_2 = x\n",
        "    x = nn.MaxPool2d(2)(x)\n",
        " \n",
        "    x = self.twoconv2(x)\n",
        "    concat_3 = x\n",
        "    x = nn.MaxPool2d(2)(x)\n",
        "    x = self.twoconv3(x)\n",
        "    \n",
        "    concat_4 = x\n",
        "    x = nn.MaxPool2d(2)(x)\n",
        "    x = self.twoconv4(x)\n",
        "    x = nn.Upsample(scale_factor=2, mode='bilinear', align_corners=True)(x)\n",
        "    x = self.oneconv1(x)\n",
        "    \n",
        "    x = torch.cat((concat_4, x), 1)\n",
        "    x = self.twoconv5(x)\n",
        " \n",
        "    x = nn.Upsample(scale_factor=2, mode='bilinear', align_corners=True)(x)\n",
        "    x = self.oneconv2(x)\n",
        "    x = torch.cat((concat_3, x), 1)\n",
        "    x = self.twoconv6(x)\n",
        " \n",
        "    x = nn.Upsample(scale_factor=2, mode='bilinear', align_corners=True)(x)\n",
        "    x = self.oneconv3(x)\n",
        "    x = torch.cat((concat_2, x), 1)\n",
        "    x = self.twoconv7(x)\n",
        " \n",
        "    x = nn.Upsample(scale_factor=2, mode='bilinear', align_corners=True)(x)\n",
        "    x = self.oneconv4(x)\n",
        "    x = torch.cat((concat_1, x), 1)\n",
        "    x = self.twoconv8(x)\n",
        " \n",
        "    x = self.finalconv(x)\n",
        "    \n",
        "    return x"
      ],
      "execution_count": 16,
      "outputs": []
    },
    {
      "cell_type": "code",
      "metadata": {
        "id": "k59ge7jBFwNp",
        "colab": {
          "base_uri": "https://localhost:8080/"
        },
        "outputId": "62e1671a-2a41-42d1-8fe0-5ecc48460394"
      },
      "source": [
        "x = torch.zeros((1, 1, 512, 512), dtype=torch.float32)\n",
        "model = Unet()\n",
        "scores = model(x)\n",
        "print(scores.size())"
      ],
      "execution_count": 17,
      "outputs": [
        {
          "output_type": "stream",
          "text": [
            "torch.Size([1, 2, 512, 512])\n"
          ],
          "name": "stdout"
        }
      ]
    },
    {
      "cell_type": "code",
      "metadata": {
        "colab": {
          "base_uri": "https://localhost:8080/"
        },
        "id": "9yI-Od_aNeAZ",
        "outputId": "47e4cab8-e173-41f2-a526-55448a70b102"
      },
      "source": [
        "model = Unet()\n",
        "device = torch.device(\"cuda:0\" if torch.cuda.is_available() else \"cpu\")\n",
        "model.cuda(device)"
      ],
      "execution_count": 18,
      "outputs": [
        {
          "output_type": "execute_result",
          "data": {
            "text/plain": [
              "Unet(\n",
              "  (relu): ReLU()\n",
              "  (conv1): Conv2d(1, 64, kernel_size=(3, 3), stride=(1, 1), padding=(1, 1))\n",
              "  (conv2): Conv2d(64, 64, kernel_size=(3, 3), stride=(1, 1), padding=(1, 1))\n",
              "  (twoconv1): TwoConvsDown(\n",
              "    (relu): ReLU()\n",
              "    (conv1): Conv2d(64, 128, kernel_size=(3, 3), stride=(1, 1), padding=(1, 1))\n",
              "    (conv2): Conv2d(128, 128, kernel_size=(3, 3), stride=(1, 1), padding=(1, 1))\n",
              "  )\n",
              "  (twoconv2): TwoConvsDown(\n",
              "    (relu): ReLU()\n",
              "    (conv1): Conv2d(128, 256, kernel_size=(3, 3), stride=(1, 1), padding=(1, 1))\n",
              "    (conv2): Conv2d(256, 256, kernel_size=(3, 3), stride=(1, 1), padding=(1, 1))\n",
              "  )\n",
              "  (twoconv3): TwoConvsDown(\n",
              "    (relu): ReLU()\n",
              "    (conv1): Conv2d(256, 512, kernel_size=(3, 3), stride=(1, 1), padding=(1, 1))\n",
              "    (conv2): Conv2d(512, 512, kernel_size=(3, 3), stride=(1, 1), padding=(1, 1))\n",
              "  )\n",
              "  (twoconv4): TwoConvsDown(\n",
              "    (relu): ReLU()\n",
              "    (conv1): Conv2d(512, 1024, kernel_size=(3, 3), stride=(1, 1), padding=(1, 1))\n",
              "    (conv2): Conv2d(1024, 1024, kernel_size=(3, 3), stride=(1, 1), padding=(1, 1))\n",
              "  )\n",
              "  (twoconv5): TwoConvsUp(\n",
              "    (relu): ReLU()\n",
              "    (conv1): Conv2d(1024, 512, kernel_size=(3, 3), stride=(1, 1), padding=(1, 1))\n",
              "    (conv2): Conv2d(512, 512, kernel_size=(3, 3), stride=(1, 1), padding=(1, 1))\n",
              "  )\n",
              "  (twoconv6): TwoConvsUp(\n",
              "    (relu): ReLU()\n",
              "    (conv1): Conv2d(512, 256, kernel_size=(3, 3), stride=(1, 1), padding=(1, 1))\n",
              "    (conv2): Conv2d(256, 256, kernel_size=(3, 3), stride=(1, 1), padding=(1, 1))\n",
              "  )\n",
              "  (twoconv7): TwoConvsUp(\n",
              "    (relu): ReLU()\n",
              "    (conv1): Conv2d(256, 128, kernel_size=(3, 3), stride=(1, 1), padding=(1, 1))\n",
              "    (conv2): Conv2d(128, 128, kernel_size=(3, 3), stride=(1, 1), padding=(1, 1))\n",
              "  )\n",
              "  (twoconv8): TwoConvsUp(\n",
              "    (relu): ReLU()\n",
              "    (conv1): Conv2d(128, 64, kernel_size=(3, 3), stride=(1, 1), padding=(1, 1))\n",
              "    (conv2): Conv2d(64, 64, kernel_size=(3, 3), stride=(1, 1), padding=(1, 1))\n",
              "  )\n",
              "  (finalconv): Conv2d(64, 2, kernel_size=(1, 1), stride=(1, 1))\n",
              "  (oneconv1): Conv2d(1024, 512, kernel_size=(2, 2), stride=(1, 1), padding=(1, 1), dilation=(2, 2))\n",
              "  (oneconv2): Conv2d(512, 256, kernel_size=(2, 2), stride=(1, 1), padding=(1, 1), dilation=(2, 2))\n",
              "  (oneconv3): Conv2d(256, 128, kernel_size=(2, 2), stride=(1, 1), padding=(1, 1), dilation=(2, 2))\n",
              "  (oneconv4): Conv2d(128, 64, kernel_size=(2, 2), stride=(1, 1), padding=(1, 1), dilation=(2, 2))\n",
              ")"
            ]
          },
          "metadata": {
            "tags": []
          },
          "execution_count": 18
        }
      ]
    },
    {
      "cell_type": "code",
      "metadata": {
        "id": "OmfRHQUzjY9Y"
      },
      "source": [
        "SMOOTH = 1e-6\n",
        "\n",
        "def iou_pytorch(outputs: torch.Tensor, labels: torch.Tensor):\n",
        "    # You can comment out this line if you are passing tensors of equal shape\n",
        "    # But if you are passing output from UNet or something it will most probably\n",
        "    # be with the BATCH x 1 x H x W shape\n",
        "    model.eval()\n",
        "    with torch.no_grad():\n",
        "      intersection = torch.logical_and(labels, outputs)\n",
        "      union = torch.logical_or(labels, outputs)\n",
        "      iou_score = torch.sum(intersection) / torch.sum(union)\n",
        "      return iou_score "
      ],
      "execution_count": 19,
      "outputs": []
    },
    {
      "cell_type": "code",
      "metadata": {
        "id": "QfwHG3ajblp6"
      },
      "source": [
        "def check_accuracy(loader, model):  \n",
        "    model.eval()  # set model to evaluation mode\n",
        "    with torch.no_grad():\n",
        "        running_loss = 0.0\n",
        "        for i, (x, y) in enumerate(loader):\n",
        "            x = x.to(device=device)  # move to device, e.g. GPU\n",
        "            y = y.to(device=device, dtype=torch.long)\n",
        "            scores = model(x)\n",
        "            loss = loss_function(scores, y.squeeze(1))\n",
        "            running_loss += loss.item()\n",
        "            if i % 5 == 4:    # print every 5 mini-batches\n",
        "              return running_loss / 5"
      ],
      "execution_count": 20,
      "outputs": []
    },
    {
      "cell_type": "code",
      "metadata": {
        "colab": {
          "base_uri": "https://localhost:8080/",
          "height": 1000
        },
        "id": "CmnwL5dxmqqz",
        "outputId": "88796842-f819-41e1-8945-a14e569212a7"
      },
      "source": [
        "loss_function = nn.CrossEntropyLoss()\n",
        "optimizer = optim.SGD(model.parameters(),lr=0.001, momentum=0.99)\n",
        " \n",
        "for epoch in range(20):  # loop over the dataset multiple times\n",
        " \n",
        "    running_loss = 0.0\n",
        "    for i, data in enumerate(data_loader_train, 0):\n",
        "        model.train()\n",
        "        # get the inputs; data is a list of [inputs, labels]\n",
        "        inputs, labels = data\n",
        " \n",
        "        # zero the parameter gradients\n",
        "        optimizer.zero_grad()\n",
        " \n",
        "        inputs, labels = inputs.to(device), labels.to(device)\n",
        " \n",
        "        # forward + backward + optimize\n",
        "        outputs = model(inputs)\n",
        "        loss = loss_function(outputs, labels.long().squeeze(1))\n",
        "        loss.backward()\n",
        "        optimizer.step()\n",
        " \n",
        "        # print statistics\n",
        "        running_loss += loss.item()\n",
        "        if i % 25 == 24:    # print every 2000 mini-batches\n",
        "            validation_loss = check_accuracy(data_loader_val, model)\n",
        "            iou = iou_pytorch(outputs, labels).item()\n",
        "            print(f'Epoch: {epoch + 1} training loss: {running_loss / 30:.3f} validation loss: {validation_loss:.3f} mean IoU: {iou:.3f}')\n",
        "            running_loss = 0.0\n",
        " \n",
        "print('Finished Training')"
      ],
      "execution_count": 21,
      "outputs": [
        {
          "output_type": "stream",
          "text": [
            "Epoch: 1 training loss: 0.564 validation loss: 0.645 mean IoU: 0.780\n",
            "Epoch: 2 training loss: 0.513 validation loss: 0.566 mean IoU: 0.837\n",
            "Epoch: 3 training loss: 0.474 validation loss: 0.542 mean IoU: 0.837\n",
            "Epoch: 4 training loss: 0.491 validation loss: 0.548 mean IoU: 0.837\n",
            "Epoch: 5 training loss: 0.472 validation loss: 0.538 mean IoU: 0.797\n",
            "Epoch: 6 training loss: 0.473 validation loss: 0.548 mean IoU: 0.837\n",
            "Epoch: 7 training loss: 0.474 validation loss: 0.544 mean IoU: 0.782\n",
            "Epoch: 8 training loss: 0.463 validation loss: 0.521 mean IoU: 0.825\n",
            "Epoch: 9 training loss: 0.446 validation loss: 0.499 mean IoU: 0.811\n",
            "Epoch: 10 training loss: 0.429 validation loss: 0.463 mean IoU: 0.836\n",
            "Epoch: 11 training loss: 0.397 validation loss: 0.442 mean IoU: 0.771\n",
            "Epoch: 12 training loss: 0.376 validation loss: 0.415 mean IoU: 0.803\n",
            "Epoch: 13 training loss: 0.353 validation loss: 0.401 mean IoU: 0.821\n",
            "Epoch: 14 training loss: 0.346 validation loss: 0.394 mean IoU: 0.841\n",
            "Epoch: 15 training loss: 0.345 validation loss: 0.400 mean IoU: 0.780\n",
            "Epoch: 16 training loss: 0.348 validation loss: 0.388 mean IoU: 0.815\n",
            "Epoch: 17 training loss: 0.339 validation loss: 0.388 mean IoU: 0.799\n",
            "Epoch: 18 training loss: 0.343 validation loss: 0.396 mean IoU: 0.782\n",
            "Epoch: 19 training loss: 0.347 validation loss: 0.401 mean IoU: 0.772\n",
            "Epoch: 20 training loss: 0.343 validation loss: 0.399 mean IoU: 0.810\n",
            "Epoch: 21 training loss: 0.341 validation loss: 0.397 mean IoU: 0.837\n",
            "Epoch: 22 training loss: 0.337 validation loss: 0.400 mean IoU: 0.803\n",
            "Epoch: 23 training loss: 0.343 validation loss: 0.400 mean IoU: 0.771\n",
            "Epoch: 24 training loss: 0.336 validation loss: 0.390 mean IoU: 0.826\n",
            "Epoch: 25 training loss: 0.337 validation loss: 0.384 mean IoU: 0.809\n",
            "Epoch: 26 training loss: 0.332 validation loss: 0.385 mean IoU: 0.800\n",
            "Epoch: 27 training loss: 0.339 validation loss: 0.396 mean IoU: 0.838\n",
            "Epoch: 28 training loss: 0.329 validation loss: 0.396 mean IoU: 0.803\n",
            "Epoch: 29 training loss: 0.331 validation loss: 0.394 mean IoU: 0.809\n",
            "Epoch: 30 training loss: 0.332 validation loss: 0.384 mean IoU: 0.802\n",
            "Epoch: 31 training loss: 0.330 validation loss: 0.379 mean IoU: 0.804\n",
            "Epoch: 32 training loss: 0.336 validation loss: 0.379 mean IoU: 0.811\n",
            "Epoch: 33 training loss: 0.328 validation loss: 0.372 mean IoU: 0.781\n",
            "Epoch: 34 training loss: 0.325 validation loss: 0.374 mean IoU: 0.824\n",
            "Epoch: 35 training loss: 0.323 validation loss: 0.373 mean IoU: 0.821\n",
            "Epoch: 36 training loss: 0.323 validation loss: 0.374 mean IoU: 0.834\n",
            "Epoch: 37 training loss: 0.327 validation loss: 0.371 mean IoU: 0.825\n",
            "Epoch: 38 training loss: 0.328 validation loss: 0.371 mean IoU: 0.798\n",
            "Epoch: 39 training loss: 0.333 validation loss: 0.373 mean IoU: 0.840\n",
            "Epoch: 40 training loss: 0.327 validation loss: 0.378 mean IoU: 0.850\n",
            "Epoch: 41 training loss: 0.329 validation loss: 0.379 mean IoU: 0.838\n",
            "Epoch: 42 training loss: 0.331 validation loss: 0.384 mean IoU: 0.853\n",
            "Epoch: 43 training loss: 0.327 validation loss: 0.391 mean IoU: 0.780\n",
            "Epoch: 44 training loss: 0.332 validation loss: 0.387 mean IoU: 0.811\n",
            "Epoch: 45 training loss: 0.322 validation loss: 0.377 mean IoU: 0.800\n",
            "Epoch: 46 training loss: 0.333 validation loss: 0.370 mean IoU: 0.835\n",
            "Epoch: 47 training loss: 0.324 validation loss: 0.363 mean IoU: 0.836\n",
            "Epoch: 48 training loss: 0.322 validation loss: 0.361 mean IoU: 0.825\n",
            "Epoch: 49 training loss: 0.317 validation loss: 0.364 mean IoU: 0.782\n",
            "Epoch: 50 training loss: 0.319 validation loss: 0.362 mean IoU: 0.837\n",
            "Epoch: 51 training loss: 0.316 validation loss: 0.364 mean IoU: 0.798\n",
            "Epoch: 52 training loss: 0.316 validation loss: 0.363 mean IoU: 0.832\n",
            "Epoch: 53 training loss: 0.315 validation loss: 0.365 mean IoU: 0.780\n",
            "Epoch: 54 training loss: 0.312 validation loss: 0.360 mean IoU: 0.824\n",
            "Epoch: 55 training loss: 0.316 validation loss: 0.360 mean IoU: 0.853\n",
            "Epoch: 56 training loss: 0.312 validation loss: 0.356 mean IoU: 0.780\n"
          ],
          "name": "stdout"
        },
        {
          "output_type": "error",
          "ename": "KeyboardInterrupt",
          "evalue": "ignored",
          "traceback": [
            "\u001b[0;31m---------------------------------------------------------------------------\u001b[0m",
            "\u001b[0;31mKeyboardInterrupt\u001b[0m                         Traceback (most recent call last)",
            "\u001b[0;32m<ipython-input-21-6d00692f3cbf>\u001b[0m in \u001b[0;36m<module>\u001b[0;34m()\u001b[0m\n\u001b[1;32m     22\u001b[0m \u001b[0;34m\u001b[0m\u001b[0m\n\u001b[1;32m     23\u001b[0m         \u001b[0;31m# print statistics\u001b[0m\u001b[0;34m\u001b[0m\u001b[0;34m\u001b[0m\u001b[0;34m\u001b[0m\u001b[0m\n\u001b[0;32m---> 24\u001b[0;31m         \u001b[0mrunning_loss\u001b[0m \u001b[0;34m+=\u001b[0m \u001b[0mloss\u001b[0m\u001b[0;34m.\u001b[0m\u001b[0mitem\u001b[0m\u001b[0;34m(\u001b[0m\u001b[0;34m)\u001b[0m\u001b[0;34m\u001b[0m\u001b[0;34m\u001b[0m\u001b[0m\n\u001b[0m\u001b[1;32m     25\u001b[0m         \u001b[0;32mif\u001b[0m \u001b[0mi\u001b[0m \u001b[0;34m%\u001b[0m \u001b[0;36m25\u001b[0m \u001b[0;34m==\u001b[0m \u001b[0;36m24\u001b[0m\u001b[0;34m:\u001b[0m    \u001b[0;31m# print every 2000 mini-batches\u001b[0m\u001b[0;34m\u001b[0m\u001b[0;34m\u001b[0m\u001b[0m\n\u001b[1;32m     26\u001b[0m             \u001b[0mvalidation_loss\u001b[0m \u001b[0;34m=\u001b[0m \u001b[0mcheck_accuracy\u001b[0m\u001b[0;34m(\u001b[0m\u001b[0mdata_loader_val\u001b[0m\u001b[0;34m,\u001b[0m \u001b[0mmodel\u001b[0m\u001b[0;34m)\u001b[0m\u001b[0;34m\u001b[0m\u001b[0;34m\u001b[0m\u001b[0m\n",
            "\u001b[0;31mKeyboardInterrupt\u001b[0m: "
          ]
        }
      ]
    },
    {
      "cell_type": "code",
      "metadata": {
        "id": "I9d8rNlhWM00"
      },
      "source": [
        "dataiter = iter(data_loader_train)\n",
        "images, labels = dataiter.next()\n",
        "output = model(images.to(device))\n",
        "fig=plt.figure()\n",
        "fig.add_subplot(1,3,1)\n",
        "plt.imshow(images[0][0])\n",
        "fig.add_subplot(1,3,2)\n",
        "plt.imshow(labels[0][0])\n",
        "fig.add_subplot(1,3,3)\n",
        "plt.imshow(output[0][0].cpu().data.numpy())"
      ],
      "execution_count": null,
      "outputs": []
    },
    {
      "cell_type": "code",
      "metadata": {
        "id": "prAZH5Sjre_5"
      },
      "source": [
        ""
      ],
      "execution_count": null,
      "outputs": []
    }
  ]
}